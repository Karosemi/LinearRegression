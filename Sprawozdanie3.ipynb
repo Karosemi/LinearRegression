{
  "nbformat": 4,
  "nbformat_minor": 0,
  "metadata": {
    "colab": {
      "name": "Sprawozdanie3",
      "version": "0.3.2",
      "provenance": [],
      "collapsed_sections": [],
      "toc_visible": true,
      "include_colab_link": true
    },
    "kernelspec": {
      "name": "python3",
      "display_name": "Python 3"
    }
  },
  "cells": [
    {
      "cell_type": "markdown",
      "metadata": {
        "id": "view-in-github",
        "colab_type": "text"
      },
      "source": [
        "<a href=\"https://colab.research.google.com/github/Karosemi/LinearRegression/blob/master/Sprawozdanie3.ipynb\" target=\"_parent\"><img src=\"https://colab.research.google.com/assets/colab-badge.svg\" alt=\"Open In Colab\"/></a>"
      ]
    },
    {
      "cell_type": "code",
      "metadata": {
        "id": "oD5SqkC5pAQE",
        "colab_type": "code",
        "outputId": "e8dbfddf-a3ee-4898-f8e4-4399f0e9191a",
        "colab": {
          "base_uri": "https://localhost:8080/",
          "height": 102
        }
      },
      "source": [
        "!jupyter-kernelspec list\n",
        "%load_ext rpy2.ipython\n",
        "import rpy2"
      ],
      "execution_count": 0,
      "outputs": [
        {
          "output_type": "stream",
          "text": [
            "Available kernels:\n",
            "  ir         /usr/local/share/jupyter/kernels/ir\n",
            "  python2    /usr/local/share/jupyter/kernels/python2\n",
            "  python3    /usr/local/share/jupyter/kernels/python3\n",
            "  swift      /usr/local/share/jupyter/kernels/swift\n"
          ],
          "name": "stdout"
        }
      ]
    },
    {
      "cell_type": "code",
      "metadata": {
        "id": "FXgflds8UsQu",
        "colab_type": "code",
        "colab": {
          "base_uri": "https://localhost:8080/",
          "height": 818
        },
        "outputId": "ae17122c-4eba-45ca-fdfc-0d163c67f218"
      },
      "source": [
        "%%R\n",
        "install.packages(\"Hmisc\")\n",
        "install.packages(\"corrplot\")\n",
        "install.packages(\"PerformanceAnalytics\")"
      ],
      "execution_count": 85,
      "outputs": [
        {
          "output_type": "stream",
          "text": [
            "/usr/local/lib/python3.6/dist-packages/rpy2/rinterface/__init__.py:146: RRuntimeWarning: also installing the dependencies ‘xts’, ‘quadprog’, ‘zoo’\n",
            "\n",
            "\n",
            "  warnings.warn(x, RRuntimeWarning)\n",
            "/usr/local/lib/python3.6/dist-packages/rpy2/rinterface/__init__.py:146: RRuntimeWarning: trying URL 'https://cran.rstudio.com/src/contrib/xts_0.11-2.tar.gz'\n",
            "\n",
            "  warnings.warn(x, RRuntimeWarning)\n",
            "/usr/local/lib/python3.6/dist-packages/rpy2/rinterface/__init__.py:146: RRuntimeWarning:  length 537024 bytes (524 KB)\n",
            "\n",
            "  warnings.warn(x, RRuntimeWarning)\n",
            "/usr/local/lib/python3.6/dist-packages/rpy2/rinterface/__init__.py:146: RRuntimeWarning: downloaded 524 KB\n",
            "\n",
            "\n",
            "  warnings.warn(x, RRuntimeWarning)\n",
            "/usr/local/lib/python3.6/dist-packages/rpy2/rinterface/__init__.py:146: RRuntimeWarning: trying URL 'https://cran.rstudio.com/src/contrib/quadprog_1.5-7.tar.gz'\n",
            "\n",
            "  warnings.warn(x, RRuntimeWarning)\n",
            "/usr/local/lib/python3.6/dist-packages/rpy2/rinterface/__init__.py:146: RRuntimeWarning:  length 35925 bytes (35 KB)\n",
            "\n",
            "  warnings.warn(x, RRuntimeWarning)\n",
            "/usr/local/lib/python3.6/dist-packages/rpy2/rinterface/__init__.py:146: RRuntimeWarning: downloaded 35 KB\n",
            "\n",
            "\n",
            "  warnings.warn(x, RRuntimeWarning)\n",
            "/usr/local/lib/python3.6/dist-packages/rpy2/rinterface/__init__.py:146: RRuntimeWarning: trying URL 'https://cran.rstudio.com/src/contrib/zoo_1.8-6.tar.gz'\n",
            "\n",
            "  warnings.warn(x, RRuntimeWarning)\n",
            "/usr/local/lib/python3.6/dist-packages/rpy2/rinterface/__init__.py:146: RRuntimeWarning:  length 853504 bytes (833 KB)\n",
            "\n",
            "  warnings.warn(x, RRuntimeWarning)\n",
            "/usr/local/lib/python3.6/dist-packages/rpy2/rinterface/__init__.py:146: RRuntimeWarning: downloaded 833 KB\n",
            "\n",
            "\n",
            "  warnings.warn(x, RRuntimeWarning)\n",
            "/usr/local/lib/python3.6/dist-packages/rpy2/rinterface/__init__.py:146: RRuntimeWarning: trying URL 'https://cran.rstudio.com/src/contrib/PerformanceAnalytics_1.5.2.tar.gz'\n",
            "\n",
            "  warnings.warn(x, RRuntimeWarning)\n",
            "/usr/local/lib/python3.6/dist-packages/rpy2/rinterface/__init__.py:146: RRuntimeWarning:  length 2499676 bytes (2.4 MB)\n",
            "\n",
            "  warnings.warn(x, RRuntimeWarning)\n",
            "/usr/local/lib/python3.6/dist-packages/rpy2/rinterface/__init__.py:146: RRuntimeWarning: downloaded 2.4 MB\n",
            "\n",
            "\n",
            "  warnings.warn(x, RRuntimeWarning)\n"
          ],
          "name": "stderr"
        }
      ]
    },
    {
      "cell_type": "code",
      "metadata": {
        "id": "csH09frQUx2O",
        "colab_type": "code",
        "colab": {
          "base_uri": "https://localhost:8080/",
          "height": 747
        },
        "outputId": "94745f08-c7c3-4f53-be75-0c8f1924755c"
      },
      "source": [
        "%%R\n",
        "library(Hmisc)\n",
        "library(corrplot)\n",
        "library(\"PerformanceAnalytics\")"
      ],
      "execution_count": 86,
      "outputs": [
        {
          "output_type": "stream",
          "text": [
            "/usr/local/lib/python3.6/dist-packages/rpy2/rinterface/__init__.py:146: RRuntimeWarning: Loading required package: xts\n",
            "\n",
            "  warnings.warn(x, RRuntimeWarning)\n",
            "/usr/local/lib/python3.6/dist-packages/rpy2/rinterface/__init__.py:146: RRuntimeWarning: Loading required package: zoo\n",
            "\n",
            "  warnings.warn(x, RRuntimeWarning)\n",
            "/usr/local/lib/python3.6/dist-packages/rpy2/rinterface/__init__.py:146: RRuntimeWarning: \n",
            "Attaching package: ‘zoo’\n",
            "\n",
            "\n",
            "  warnings.warn(x, RRuntimeWarning)\n",
            "/usr/local/lib/python3.6/dist-packages/rpy2/rinterface/__init__.py:146: RRuntimeWarning: The following objects are masked from ‘package:base’:\n",
            "\n",
            "    as.Date, as.Date.numeric\n",
            "\n",
            "\n",
            "  warnings.warn(x, RRuntimeWarning)\n",
            "/usr/local/lib/python3.6/dist-packages/rpy2/rinterface/__init__.py:146: RRuntimeWarning: Registered S3 method overwritten by 'xts':\n",
            "  method     from\n",
            "  as.zoo.xts zoo \n",
            "\n",
            "  warnings.warn(x, RRuntimeWarning)\n",
            "/usr/local/lib/python3.6/dist-packages/rpy2/rinterface/__init__.py:146: RRuntimeWarning: \n",
            "Package PerformanceAnalytics (1.5.2) loaded.\n",
            "Copyright (c) 2004-2018 Peter Carl and Brian G. Peterson, GPL-2 | GPL-3\n",
            "https://github.com/braverock/PerformanceAnalytics\n",
            "\n",
            "\n",
            "  warnings.warn(x, RRuntimeWarning)\n",
            "/usr/local/lib/python3.6/dist-packages/rpy2/rinterface/__init__.py:146: RRuntimeWarning: \n",
            "Attaching package: ‘PerformanceAnalytics’\n",
            "\n",
            "\n",
            "  warnings.warn(x, RRuntimeWarning)\n",
            "/usr/local/lib/python3.6/dist-packages/rpy2/rinterface/__init__.py:146: RRuntimeWarning: The following object is masked from ‘package:graphics’:\n",
            "\n",
            "    legend\n",
            "\n",
            "\n",
            "  warnings.warn(x, RRuntimeWarning)\n"
          ],
          "name": "stderr"
        }
      ]
    },
    {
      "cell_type": "markdown",
      "metadata": {
        "id": "Z_PlXG3D2oWn",
        "colab_type": "text"
      },
      "source": [
        "# Sprawozdanie 3.\n",
        "## Pakiety statystyczne"
      ]
    },
    {
      "cell_type": "markdown",
      "metadata": {
        "id": "nbhXurMQ2yaJ",
        "colab_type": "text"
      },
      "source": [
        "## Marta Kierat, Karolina Schmidt"
      ]
    },
    {
      "cell_type": "markdown",
      "metadata": {
        "id": "ESXE-msM2yXB",
        "colab_type": "text"
      },
      "source": [
        "### 23.06.2019r"
      ]
    },
    {
      "cell_type": "markdown",
      "metadata": {
        "id": "7YtTx_lf7Eat",
        "colab_type": "text"
      },
      "source": [
        "### Wstęp"
      ]
    },
    {
      "cell_type": "markdown",
      "metadata": {
        "id": "pj5i0-fP2-k_",
        "colab_type": "text"
      },
      "source": [
        "Model prostej regresji zakłada, że wartości danej zmiennej Y zależą od zmiennej objaśniającej X. Jednak sytuacja, w której zmienna objaśniana zależy tylko od jednej zmiennej objaśniającej zdarza się rzadko.  Zazwyczaj badane zjawisko zależy od wielu czynników, jak na przykład pogoda. Odczuwalna przez nas temperatura i wilgotność, zależą od takich czynników jak ciśnienie, prędkość wiatru, zachmurzenie. W takim przypadku można zastosować model regresji wielorakiej. *Wielorakość* oznacza tu, że model opisuje więcej niż jedna zmienna objaśniająca. W przypadku danych pogodowych model ten mogłby uwzględnić wszystkie składowe odpowiadające za warunki atmosferyczne."
      ]
    },
    {
      "cell_type": "markdown",
      "metadata": {
        "id": "9y8ckNcZ5Sz9",
        "colab_type": "text"
      },
      "source": [
        "### Źrodło danych"
      ]
    },
    {
      "cell_type": "markdown",
      "metadata": {
        "id": "nYufk78j6rJC",
        "colab_type": "text"
      },
      "source": [
        "Dane użyte w raporcie pochodzą ze strony kagggle.com ([źrodło danych](https://www.kaggle.com/muthuj7/weather-dataset)) i zawierają dane na temat warunków atmosferycznych z godzinnym interwałem czasowym. Zbiór zawiera 12 zmiennych, z czego 9 jest ciągłych. Kolumny zawierają informację na temat temperatury, odczuwalnej temperatury, wilgotności, ciśnienia, prędkości wiatru , widoczności, zachmurzenia oraz opadów. W zbiorze wielkości 96441 nie występują braki danych (wartość *null* w kolumnie *Precip.Type* oznacza brak opadów).  Poniżej przedstawione są  nazwy kolumn wraz z opisem typu zmiennych w nich zawartych. Tabela poniżej przedstawia statystyki zmiennych ze zbioru. "
      ]
    },
    {
      "cell_type": "code",
      "metadata": {
        "id": "WHHMtxM22m98",
        "colab_type": "code",
        "colab": {},
        "cellView": "code"
      },
      "source": [
        "\n",
        "%%R\n",
        "url = 'https://raw.githubusercontent.com/Karosemi/LinearRegression/master/weatherHistory.csv'\n",
        "df <- read.csv(url,header=TRUE, sep=\",\")"
      ],
      "execution_count": 0,
      "outputs": []
    },
    {
      "cell_type": "code",
      "metadata": {
        "id": "PwvDx25ddscd",
        "colab_type": "code",
        "colab": {
          "base_uri": "https://localhost:8080/",
          "height": 267
        },
        "outputId": "06ce4b01-f5d9-435d-bbf8-64ee36370c8c"
      },
      "source": [
        "%%R\n",
        "str(df)"
      ],
      "execution_count": 90,
      "outputs": [
        {
          "output_type": "display_data",
          "data": {
            "text/plain": [
              "'data.frame':\t96453 obs. of  12 variables:\n",
              " $ Formatted.Date          : Factor w/ 96429 levels \"2006-01-01 00:00:00.000 +0100\",..: 2160 2161 2162 2163 2164 2165 2166 2167 2168 2169 ...\n",
              " $ Summary                 : Factor w/ 27 levels \"Breezy\",\"Breezy and Dry\",..: 20 20 18 20 18 20 20 20 20 20 ...\n",
              " $ Precip.Type             : Factor w/ 3 levels \"null\",\"rain\",..: 2 2 2 2 2 2 2 2 2 2 ...\n",
              " $ Temperature..C.         : num  9.47 9.36 9.38 8.29 8.76 ...\n",
              " $ Apparent.Temperature..C.: num  7.39 7.23 9.38 5.94 6.98 ...\n",
              " $ Humidity                : num  0.89 0.86 0.89 0.83 0.83 0.85 0.95 0.89 0.82 0.72 ...\n",
              " $ Wind.Speed..km.h.       : num  14.12 14.26 3.93 14.1 11.04 ...\n",
              " $ Wind.Bearing..degrees.  : num  251 259 204 269 259 258 259 260 259 279 ...\n",
              " $ Visibility..km.         : num  15.8 15.8 15 15.8 15.8 ...\n",
              " $ Loud.Cover              : num  0 0 0 0 0 0 0 0 0 0 ...\n",
              " $ Pressure..millibars.    : num  1015 1016 1016 1016 1017 ...\n",
              " $ Daily.Summary           : Factor w/ 214 levels \"Breezy and foggy starting in the evening.\",..: 198 198 198 198 198 198 198 198 198 198 ...\n"
            ]
          },
          "metadata": {
            "tags": []
          }
        }
      ]
    },
    {
      "cell_type": "code",
      "metadata": {
        "id": "IDZiRfV9F1Dd",
        "colab_type": "code",
        "outputId": "d5dee80c-5252-4a7f-ecac-b086dd116345",
        "colab": {
          "base_uri": "https://localhost:8080/",
          "height": 561
        }
      },
      "source": [
        "%%R \n",
        "summary(df)"
      ],
      "execution_count": 0,
      "outputs": [
        {
          "output_type": "display_data",
          "data": {
            "text/plain": [
              "                       Formatted.Date                 Summary      Precip.Type \n",
              " 2010-08-02 00:00:00.000 +0200:    2   Partly Cloudy      :31733   null:  517  \n",
              " 2010-08-02 01:00:00.000 +0200:    2   Mostly Cloudy      :28094   rain:85224  \n",
              " 2010-08-02 02:00:00.000 +0200:    2   Overcast           :16597   snow:10712  \n",
              " 2010-08-02 03:00:00.000 +0200:    2   Clear              :10890               \n",
              " 2010-08-02 04:00:00.000 +0200:    2   Foggy              : 7148               \n",
              " 2010-08-02 05:00:00.000 +0200:    2   Breezy and Overcast:  528               \n",
              " (Other)                      :96441   (Other)            : 1463               \n",
              " Temperature..C.   Apparent.Temperature..C.    Humidity      Wind.Speed..km.h.\n",
              " Min.   :-21.822   Min.   :-27.717          Min.   :0.0000   Min.   : 0.000   \n",
              " 1st Qu.:  4.689   1st Qu.:  2.311          1st Qu.:0.6000   1st Qu.: 5.828   \n",
              " Median : 12.000   Median : 12.000          Median :0.7800   Median : 9.966   \n",
              " Mean   : 11.933   Mean   : 10.855          Mean   :0.7349   Mean   :10.811   \n",
              " 3rd Qu.: 18.839   3rd Qu.: 18.839          3rd Qu.:0.8900   3rd Qu.:14.136   \n",
              " Max.   : 39.906   Max.   : 39.344          Max.   :1.0000   Max.   :63.853   \n",
              "                                                                              \n",
              " Wind.Bearing..degrees. Visibility..km.   Loud.Cover Pressure..millibars.\n",
              " Min.   :  0.0          Min.   : 0.00   Min.   :0    Min.   :   0        \n",
              " 1st Qu.:116.0          1st Qu.: 8.34   1st Qu.:0    1st Qu.:1012        \n",
              " Median :180.0          Median :10.05   Median :0    Median :1016        \n",
              " Mean   :187.5          Mean   :10.35   Mean   :0    Mean   :1003        \n",
              " 3rd Qu.:290.0          3rd Qu.:14.81   3rd Qu.:0    3rd Qu.:1021        \n",
              " Max.   :359.0          Max.   :16.10   Max.   :0    Max.   :1046        \n",
              "                                                                         \n",
              "                                            Daily.Summary  \n",
              " Mostly cloudy throughout the day.                 :20085  \n",
              " Partly cloudy throughout the day.                 : 9981  \n",
              " Partly cloudy until night.                        : 6169  \n",
              " Partly cloudy starting in the morning.            : 5184  \n",
              " Foggy in the morning.                             : 4201  \n",
              " Foggy starting overnight continuing until morning.: 3576  \n",
              " (Other)                                           :47257  \n"
            ]
          },
          "metadata": {
            "tags": []
          }
        }
      ]
    },
    {
      "cell_type": "markdown",
      "metadata": {
        "id": "aWZAA2bHgHjz",
        "colab_type": "text"
      },
      "source": [
        "### Mapa korelacji"
      ]
    },
    {
      "cell_type": "markdown",
      "metadata": {
        "id": "Ct64IinweiDe",
        "colab_type": "text"
      },
      "source": [
        "Aby ustalić,  które zmienne są znaczące w doborze modelu, należy zbadać zależności pomiędzy tymi zmiennymi, czyli wyznaczyć korelacje. Aby to zrobić, należy usunąć zmienne kategoryczne, ponieważ korelacje wyznacza się  pomiędzy zmiennymi numerycznymi. Wybrane do analizy zmienne to temperatura, odczuwalna temperatura, wilgotność, prędkość wiatru, widoczność i i ciśnienie. Składowe, wraz z informacją o opadach i zachmurzeniu, zawierają pełną informację o aktualnych warunkach atmosferycznych."
      ]
    },
    {
      "cell_type": "code",
      "metadata": {
        "id": "O6VdKOKFpA7a",
        "colab_type": "code",
        "outputId": "e56caa67-8e11-4d19-bdf1-382e653682a2",
        "colab": {
          "base_uri": "https://localhost:8080/",
          "height": 141
        }
      },
      "source": [
        "%%R\n",
        "#ramka danych z samymi zmiennymi ciaglymi, aby moc sprawdzic czy zmienne sa skorelowane\n",
        "df.drop <- subset(df,select=-c(Formatted.Date,Wind.Bearing..degrees.,Loud.Cover,Precip.Type,Summary, Daily.Summary  ))\n",
        "df.drop <- na.omit(df.drop)\n",
        "str(df.drop)"
      ],
      "execution_count": 100,
      "outputs": [
        {
          "output_type": "display_data",
          "data": {
            "text/plain": [
              "'data.frame':\t96453 obs. of  6 variables:\n",
              " $ Temperature..C.         : num  9.47 9.36 9.38 8.29 8.76 ...\n",
              " $ Apparent.Temperature..C.: num  7.39 7.23 9.38 5.94 6.98 ...\n",
              " $ Humidity                : num  0.89 0.86 0.89 0.83 0.83 0.85 0.95 0.89 0.82 0.72 ...\n",
              " $ Wind.Speed..km.h.       : num  14.12 14.26 3.93 14.1 11.04 ...\n",
              " $ Visibility..km.         : num  15.8 15.8 15 15.8 15.8 ...\n",
              " $ Pressure..millibars.    : num  1015 1016 1016 1016 1017 ...\n"
            ]
          },
          "metadata": {
            "tags": []
          }
        }
      ]
    },
    {
      "cell_type": "markdown",
      "metadata": {
        "id": "xRAKYGJcgkPT",
        "colab_type": "text"
      },
      "source": [
        "Poniższy wykres jest mapą korelacji wybranych zmiennych ciągłych. Zauważalnym jest, że pomiędzy temperaturą a wilgotnością istnieje wyraźna silna korelacja (ew. średnio silna, wartość 0.6). Trochę słabsza, lecz wciąż wyraźna zależność występuje pomiędzy widocznością a wilgotnością i pomiędzy wilgotnością a temperaturą. Wynika to za pewne z tego, że przy dużej wilgotności powietrza może wystąpić mgła. Słabe korelacje zauważalne są pomiędzy ciśnieniem a temperaturą. Prędkość wiatru jest bardzo słabo skorelowana z innymi zmiennymi."
      ]
    },
    {
      "cell_type": "code",
      "metadata": {
        "id": "B8LoYG7vUWGb",
        "colab_type": "code",
        "colab": {
          "base_uri": "https://localhost:8080/",
          "height": 496
        },
        "outputId": "59df56c3-23d9-4059-c0bd-d0c75de8b138"
      },
      "source": [
        "%%R\n",
        "df.cor = cor(df.drop, method = \"spearman\", use = \"complete.obs\")\n",
        "corrplot(df.cor)"
      ],
      "execution_count": 101,
      "outputs": [
        {
          "output_type": "display_data",
          "data": {
            "image/png": "[encoded data removed]"
          },
          "metadata": {
            "tags": []
          }
        }
      ]
    },
    {
      "cell_type": "code",
      "metadata": {
        "id": "msumSbHRasON",
        "colab_type": "code",
        "colab": {
          "base_uri": "https://localhost:8080/",
          "height": 496
        },
        "outputId": "5ec02654-a308-4b6c-e8ad-639e4c76da28"
      },
      "source": [
        "%%R\n",
        "chart.Correlation(df.drop, histogram=TRUE, pch=19)"
      ],
      "execution_count": 88,
      "outputs": [
        {
          "output_type": "display_data",
          "data": {
            "image/png": "[encoded data removed]"
          },
          "metadata": {
            "tags": []
          }
        }
      ]
    },
    {
      "cell_type": "markdown",
      "metadata": {
        "id": "pgtWafE8j0zQ",
        "colab_type": "text"
      },
      "source": [
        "## Modele"
      ]
    },
    {
      "cell_type": "markdown",
      "metadata": {
        "id": "Mr_pKVJ6kD6E",
        "colab_type": "text"
      },
      "source": [
        "W celu doboru odpowiedniego modelu część zmiennych należy usunąć. Są to kolumny z informacją o czasie pomiaru, kierunku wiatru oraz zachmurzeniu. Poniżej przedstawione są wybrane kolumny danych."
      ]
    },
    {
      "cell_type": "code",
      "metadata": {
        "id": "6xhtBzHAqC6X",
        "colab_type": "code",
        "colab": {}
      },
      "source": [
        "%%R\n",
        "#usunięcie zbędnych kolumn\n",
        "dane <- subset(df,select=-c(Formatted.Date,Wind.Bearing..degrees.,Loud.Cover))\n",
        "dane <- na.omit(dane)\n",
        "#zamiana zmiennej ciągłej na zmienną kategoryczną\n",
        "lvl <-c(0,0.25,0.5,0.75,10)\n",
        "dane$Humidity.cat <- cut(dane$Humidity,lvl,include.lowest=T, labels=c(\"very low\", \"low\", \"middle\", \"high\"))\n",
        "#dane <- subset(dane, select=-c(Humidity))\n",
        "dane$Precip.Type <- as.numeric(dane$Precip.Type)\n"
      ],
      "execution_count": 0,
      "outputs": []
    },
    {
      "cell_type": "code",
      "metadata": {
        "id": "9go-pD9NHaCz",
        "colab_type": "code",
        "outputId": "ea0b5132-d13b-443a-b05e-70b27254da5a",
        "colab": {
          "base_uri": "https://localhost:8080/",
          "height": 390
        }
      },
      "source": [
        "%%R\n",
        "head(dane)"
      ],
      "execution_count": 107,
      "outputs": [
        {
          "output_type": "display_data",
          "data": {
            "text/plain": [
              "        Summary Precip.Type Temperature..C. Apparent.Temperature..C. Humidity\n",
              "1 Partly Cloudy           2        9.472222                 7.388889     0.89\n",
              "2 Partly Cloudy           2        9.355556                 7.227778     0.86\n",
              "3 Mostly Cloudy           2        9.377778                 9.377778     0.89\n",
              "4 Partly Cloudy           2        8.288889                 5.944444     0.83\n",
              "5 Mostly Cloudy           2        8.755556                 6.977778     0.83\n",
              "6 Partly Cloudy           2        9.222222                 7.111111     0.85\n",
              "  Wind.Speed..km.h. Visibility..km. Pressure..millibars.\n",
              "1           14.1197         15.8263              1015.13\n",
              "2           14.2646         15.8263              1015.63\n",
              "3            3.9284         14.9569              1015.94\n",
              "4           14.1036         15.8263              1016.41\n",
              "5           11.0446         15.8263              1016.51\n",
              "6           13.9587         14.9569              1016.66\n",
              "                      Daily.Summary Humidity.cat\n",
              "1 Partly cloudy throughout the day.         high\n",
              "2 Partly cloudy throughout the day.         high\n",
              "3 Partly cloudy throughout the day.         high\n",
              "4 Partly cloudy throughout the day.         high\n",
              "5 Partly cloudy throughout the day.         high\n",
              "6 Partly cloudy throughout the day.         high\n"
            ]
          },
          "metadata": {
            "tags": []
          }
        }
      ]
    },
    {
      "cell_type": "markdown",
      "metadata": {
        "id": "NjPH4SzmlofR",
        "colab_type": "text"
      },
      "source": [
        "### Model 1. - zmienne ciągłe"
      ]
    },
    {
      "cell_type": "code",
      "metadata": {
        "id": "AfVeo63YCn5n",
        "colab_type": "code",
        "outputId": "2504ea05-ec32-4d7a-986f-56a803836110",
        "colab": {
          "base_uri": "https://localhost:8080/",
          "height": 425
        }
      },
      "source": [
        "%%R #sprawdzenie modeli tylko ze zmiennymi ciągłymi\n",
        "\n",
        "model.null <- lm(Apparent.Temperature..C.~1,data=dane[1:3000,])\n",
        "model.full <- lm(Apparent.Temperature..C.~Temperature..C.+Wind.Speed..km.h.+Precip.Type+Visibility..km.+Pressure..millibars.,data=dane[1:3000,])\n",
        "model1 <- step(model.full,formula(model.null))\n",
        "AIC(model1)"
      ],
      "execution_count": 108,
      "outputs": [
        {
          "output_type": "display_data",
          "data": {
            "text/plain": [
              "Start:  AIC=256.92\n",
              "Apparent.Temperature..C. ~ Temperature..C. + Wind.Speed..km.h. + \n",
              "    Precip.Type + Visibility..km. + Pressure..millibars.\n",
              "\n",
              "                       Df Sum of Sq    RSS     AIC\n",
              "- Precip.Type           1         2   3257   256.3\n",
              "<none>                                3255   256.9\n",
              "- Pressure..millibars.  1         4   3259   258.6\n",
              "- Visibility..km.       1         5   3260   259.1\n",
              "- Wind.Speed..km.h.     1      2103   5358  1749.9\n",
              "- Temperature..C.       1    159467 162723 11990.3\n",
              "\n",
              "Step:  AIC=256.32\n",
              "Apparent.Temperature..C. ~ Temperature..C. + Wind.Speed..km.h. + \n",
              "    Visibility..km. + Pressure..millibars.\n",
              "\n",
              "                       Df Sum of Sq    RSS     AIC\n",
              "<none>                                3257   256.3\n",
              "- Pressure..millibars.  1         4   3261   258.2\n",
              "- Visibility..km.       1         5   3262   259.1\n",
              "- Wind.Speed..km.h.     1      2149   5406  1774.5\n",
              "- Temperature..C.       1    233355 236612 13111.4\n",
              "[1] 8771.948\n"
            ]
          },
          "metadata": {
            "tags": []
          }
        }
      ]
    },
    {
      "cell_type": "markdown",
      "metadata": {
        "id": "vlNA37AOmI5w",
        "colab_type": "text"
      },
      "source": [
        "### Model 2. -zmienne kategoryczne"
      ]
    },
    {
      "cell_type": "code",
      "metadata": {
        "id": "ROw5O9uhHzaE",
        "colab_type": "code",
        "outputId": "6f7e72a0-6169-4f98-ba09-41373c1e349f",
        "colab": {
          "base_uri": "https://localhost:8080/",
          "height": 833
        }
      },
      "source": [
        "%%R #modele ze zmiennymi kategorycznymi\n",
        "#model.null2 <- lm(Apparent.Temperature..C.~1,data=dane[1:3000,])\n",
        "model.full2 <- lm(Apparent.Temperature..C.~.,data=dane[1:3000,])\n",
        "model2 <-step(model.full2,formula(model.null))\n",
        "AIC(model2)"
      ],
      "execution_count": 0,
      "outputs": [
        {
          "output_type": "display_data",
          "data": {
            "text/plain": [
              "Start:  AIC=-220.23\n",
              "Apparent.Temperature..C. ~ Summary + Precip.Type + Temperature..C. + \n",
              "    Humidity + Wind.Speed..km.h. + Visibility..km. + Pressure..millibars. + \n",
              "    Daily.Summary + Humidity.cat\n",
              "\n",
              "                       Df Sum of Sq   RSS    AIC\n",
              "- Humidity              1         0  2680 -221.8\n",
              "- Visibility..km.       1         1  2681 -221.3\n",
              "<none>                               2680 -220.2\n",
              "- Pressure..millibars.  1         3  2683 -218.7\n",
              "- Summary               8        24  2704 -209.3\n",
              "- Precip.Type           1        18  2698 -202.1\n",
              "- Humidity.cat          2        20  2700 -201.7\n",
              "- Daily.Summary        42       481  3162  191.4\n",
              "- Wind.Speed..km.h.     1      1589  4270 1174.7\n",
              "- Temperature..C.       1     64705 67385 9451.4\n",
              "\n",
              "Step:  AIC=-221.85\n",
              "Apparent.Temperature..C. ~ Summary + Precip.Type + Temperature..C. + \n",
              "    Wind.Speed..km.h. + Visibility..km. + Pressure..millibars. + \n",
              "    Daily.Summary + Humidity.cat\n",
              "\n",
              "                       Df Sum of Sq   RSS    AIC\n",
              "- Visibility..km.       1         1  2681 -223.0\n",
              "<none>                               2680 -221.8\n",
              "- Pressure..millibars.  1         3  2684 -220.4\n",
              "- Summary               8        24  2704 -211.2\n",
              "- Precip.Type           1        19  2699 -203.0\n",
              "- Humidity.cat          2        24  2704 -199.6\n",
              "- Daily.Summary        42       481  3162  189.4\n",
              "- Wind.Speed..km.h.     1      1658  4338 1220.6\n",
              "- Temperature..C.       1     66047 68727 9508.6\n",
              "\n",
              "Step:  AIC=-223.01\n",
              "Apparent.Temperature..C. ~ Summary + Precip.Type + Temperature..C. + \n",
              "    Wind.Speed..km.h. + Pressure..millibars. + Daily.Summary + \n",
              "    Humidity.cat\n",
              "\n",
              "                       Df Sum of Sq   RSS    AIC\n",
              "<none>                               2681 -223.0\n",
              "- Pressure..millibars.  1         3  2684 -221.5\n",
              "- Summary               8        27  2708 -209.0\n",
              "- Precip.Type           1        20  2701 -202.9\n",
              "- Humidity.cat          2        23  2704 -201.3\n",
              "- Daily.Summary        42       484  3165  190.5\n",
              "- Wind.Speed..km.h.     1      1661  4342 1221.2\n",
              "- Temperature..C.       1     66510 69192 9526.8\n",
              "[1] 8292.617\n"
            ]
          },
          "metadata": {
            "tags": []
          }
        }
      ]
    },
    {
      "cell_type": "markdown",
      "metadata": {
        "id": "wfHy9tGOmXJH",
        "colab_type": "text"
      },
      "source": [
        "### Model 3. -zmienne kategoryczne i ciągłe"
      ]
    },
    {
      "cell_type": "code",
      "metadata": {
        "id": "niikLhOmQdmI",
        "colab_type": "code",
        "outputId": "3bcf9067-f5bf-45f2-ba52-a1b6ad05d705",
        "colab": {
          "base_uri": "https://localhost:8080/",
          "height": 34
        }
      },
      "source": [
        "%%R #interakcje\n",
        "#model - interakcje\n",
        "model_inter1 <- lm(Apparent.Temperature..C. ~ Summary + Precip.Type * Temperature..C. + Wind.Speed..km.h. + Pressure..millibars. + Daily.Summary + Humidity.cat,data=dane[1:3000,])\n",
        "model_inter2 <- lm(Apparent.Temperature..C. ~ Summary + Precip.Type + Temperature..C. * Wind.Speed..km.h. + Pressure..millibars. + Daily.Summary + Humidity.cat ,data=dane[1:3000,])\n",
        "model_inter3 <- lm(Apparent.Temperature..C. ~ Summary + Precip.Type + Temperature..C. : Wind.Speed..km.h. * Pressure..millibars. + Daily.Summary + Humidity.cat,data=dane[1:3000,])\n",
        "model_inter4 <- lm(Apparent.Temperature..C. ~ Summary + Precip.Type + Temperature..C. + Wind.Speed..km.h. * Pressure..millibars. + Daily.Summary + Humidity.cat,data=dane[1:3000,])\n",
        "print(c(AIC(model_inter1),AIC(model_inter2),AIC(model_inter3),AIC(model_inter4)))\n",
        "#summary(model_inter4)"
      ],
      "execution_count": 109,
      "outputs": [
        {
          "output_type": "display_data",
          "data": {
            "text/plain": [
              "[1]  8278.155  6042.081 17528.307  8280.238\n"
            ]
          },
          "metadata": {
            "tags": []
          }
        }
      ]
    },
    {
      "cell_type": "code",
      "metadata": {
        "id": "OvL5A94VSIgy",
        "colab_type": "code",
        "outputId": "a847f84f-27b2-4bf6-c983-186bb3b7c6d9",
        "colab": {
          "base_uri": "https://localhost:8080/",
          "height": 356
        }
      },
      "source": [
        "%%R\n",
        "anova(model_inter2,model2)"
      ],
      "execution_count": 110,
      "outputs": [
        {
          "output_type": "stream",
          "text": [
            "\n",
            "Error in anova.lm(model_inter2, model2) : object 'model2' not found\n"
          ],
          "name": "stdout"
        },
        {
          "output_type": "stream",
          "text": [
            "/usr/local/lib/python3.6/dist-packages/rpy2/rinterface/__init__.py:146: RRuntimeWarning: Error in anova.lm(model_inter2, model2) : object 'model2' not found\n",
            "\n",
            "  warnings.warn(x, RRuntimeWarning)\n",
            "/usr/local/lib/python3.6/dist-packages/rpy2/rinterface/__init__.py:146: RRuntimeWarning: In addition: \n",
            "  warnings.warn(x, RRuntimeWarning)\n",
            "/usr/local/lib/python3.6/dist-packages/rpy2/rinterface/__init__.py:146: RRuntimeWarning: Warning message:\n",
            "\n",
            "  warnings.warn(x, RRuntimeWarning)\n",
            "/usr/local/lib/python3.6/dist-packages/rpy2/rinterface/__init__.py:146: RRuntimeWarning: In cor(df.drop, method = \"spearman\", use = \"complete.obs\") :\n",
            "  warnings.warn(x, RRuntimeWarning)\n",
            "/usr/local/lib/python3.6/dist-packages/rpy2/rinterface/__init__.py:146: RRuntimeWarning: \n",
            " \n",
            "  warnings.warn(x, RRuntimeWarning)\n",
            "/usr/local/lib/python3.6/dist-packages/rpy2/rinterface/__init__.py:146: RRuntimeWarning:  the standard deviation is zero\n",
            "\n",
            "  warnings.warn(x, RRuntimeWarning)\n"
          ],
          "name": "stderr"
        }
      ]
    },
    {
      "cell_type": "code",
      "metadata": {
        "id": "wFO_ijg3SfZn",
        "colab_type": "code",
        "outputId": "f9ebaf04-ff5c-4ae9-cd09-3858827d5fae",
        "colab": {
          "base_uri": "https://localhost:8080/",
          "height": 230
        }
      },
      "source": [
        "%%R\n",
        "anova(model_inter2,model1)"
      ],
      "execution_count": 111,
      "outputs": [
        {
          "output_type": "display_data",
          "data": {
            "text/plain": [
              "Analysis of Variance Table\n",
              "\n",
              "Model 1: Apparent.Temperature..C. ~ Summary + Precip.Type + Temperature..C. * \n",
              "    Wind.Speed..km.h. + Pressure..millibars. + Daily.Summary + \n",
              "    Humidity.cat\n",
              "Model 2: Apparent.Temperature..C. ~ Temperature..C. + Wind.Speed..km.h. + \n",
              "    Visibility..km. + Pressure..millibars.\n",
              "  Res.Df    RSS  Df Sum of Sq      F    Pr(>F)    \n",
              "1   2942 1265.5                                   \n",
              "2   2995 3256.7 -53   -1991.3 87.347 < 2.2e-16 ***\n",
              "---\n",
              "Signif. codes:  0 ‘***’ 0.001 ‘**’ 0.01 ‘*’ 0.05 ‘.’ 0.1 ‘ ’ 1\n"
            ]
          },
          "metadata": {
            "tags": []
          }
        }
      ]
    },
    {
      "cell_type": "code",
      "metadata": {
        "id": "MKKkmXmLmfKm",
        "colab_type": "code",
        "colab": {}
      },
      "source": [
        ""
      ],
      "execution_count": 0,
      "outputs": []
    }
  ]
}